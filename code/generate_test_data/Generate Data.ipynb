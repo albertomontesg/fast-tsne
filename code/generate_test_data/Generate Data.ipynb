{
 "cells": [
  {
   "cell_type": "code",
   "execution_count": 1,
   "metadata": {
    "collapsed": true
   },
   "outputs": [],
   "source": [
    "import numpy as np\n",
    "import struct"
   ]
  },
  {
   "cell_type": "code",
   "execution_count": 44,
   "metadata": {
    "collapsed": true
   },
   "outputs": [],
   "source": [
    "N = 10000\n",
    "C = 5 #number of clusters\n",
    "D = 2000 #number of dimensions\n",
    "fname = \"%d_%d_%d\" % (C, D, N)"
   ]
  },
  {
   "cell_type": "code",
   "execution_count": 10,
   "metadata": {},
   "outputs": [],
   "source": [
    "#for each data point generate a cluster cluster\n",
    "clusters = np.random.randint(0, C, size=(N))\n",
    "#initialize the clusters\n",
    "means = np.random.rand( C, D )\n",
    "cov = np.random.rand( C, D, D )\n",
    "for i in range(C):\n",
    "    cov[i] = cov[i].T @ cov[i]"
   ]
  },
  {
   "cell_type": "code",
   "execution_count": 42,
   "metadata": {},
   "outputs": [],
   "source": [
    "data = np.zeros( (N,D) )\n",
    "for i in range(C):\n",
    "    nrSamples = np.sum(clusters == i)\n",
    "    samples = np.random.multivariate_normal(mean = means[i, :], cov=cov[i], size = nrSamples)\n",
    "    data[np.where(clusters == i)[0], :] = samples"
   ]
  },
  {
   "cell_type": "code",
   "execution_count": 43,
   "metadata": {},
   "outputs": [],
   "source": [
    "data = data - np.tile(data.min(axis=0).reshape(1,D), (N,1))\n",
    "data = data / np.tile(data.max(axis=0).reshape(1,D), (N,1))\n",
    "data = 255*data\n",
    "data = data.astype(np.uint8)"
   ]
  },
  {
   "cell_type": "code",
   "execution_count": 59,
   "metadata": {},
   "outputs": [],
   "source": [
    "with open(fname, 'wb') as w:\n",
    "    w.write(struct.pack(\">IIII\", 2051, N, 1, D))\n",
    "    w.write(memoryview(data))"
   ]
  }
 ],
 "metadata": {
  "kernelspec": {
   "display_name": "Python 3",
   "language": "python",
   "name": "python3"
  },
  "language_info": {
   "codemirror_mode": {
    "name": "ipython",
    "version": 3
   },
   "file_extension": ".py",
   "mimetype": "text/x-python",
   "name": "python",
   "nbconvert_exporter": "python",
   "pygments_lexer": "ipython3",
   "version": "3.6.1"
  }
 },
 "nbformat": 4,
 "nbformat_minor": 2
}
