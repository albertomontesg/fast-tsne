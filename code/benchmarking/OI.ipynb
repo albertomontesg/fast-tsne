{
 "cells": [
  {
   "cell_type": "markdown",
   "metadata": {},
   "source": [
    "# Operational Intensity Count"
   ]
  },
  {
   "cell_type": "code",
   "execution_count": 52,
   "metadata": {},
   "outputs": [],
   "source": [
    "import numpy as np\n",
    "%matplotlib inline\n",
    "from visualization import *\n",
    "from util_tsne_exact import *\n",
    "from sympy import *\n",
    "init_printing()"
   ]
  },
  {
   "cell_type": "code",
   "execution_count": 54,
   "metadata": {},
   "outputs": [],
   "source": [
    "bandwidth = 7917e6   # Bytes/s\n",
    "freq = 2.7e9          # Cycles/s\n",
    "beta = bandwidth/freq # bytes/cycle\n",
    "pi = 4                # flops/cycle\n",
    "data_type = \"double\""
   ]
  },
  {
   "cell_type": "code",
   "execution_count": 55,
   "metadata": {},
   "outputs": [
    {
     "data": {
      "image/png": "[encoded data removed]",
      "text/latex": [
       "$$\\frac{3 D}{2} N \\left(N - 1\\right) + 3 D N + D + 5 N^{2} + 1500 N d \\left(N - 1\\right) + 9000 N d + 4 N it + 1000 N \\left(N - 1\\right) \\left(d + 1\\right) + 1000 N \\left(N - 1\\right) \\left(2 d + 1\\right) + \\frac{8001 N}{2} \\left(N - 1\\right) + 1000 d + it \\left(2 N + 2\\right) + 4 it$$"
      ],
      "text/plain": [
       "3⋅D⋅N⋅(N - 1)                  2                                              \n",
       "───────────── + 3⋅D⋅N + D + 5⋅N  + 1500⋅N⋅d⋅(N - 1) + 9000⋅N⋅d + 4⋅N⋅it + 1000\n",
       "      2                                                                       \n",
       "\n",
       "                                                8001⋅N⋅(N - 1)                \n",
       "⋅N⋅(N - 1)⋅(d + 1) + 1000⋅N⋅(N - 1)⋅(2⋅d + 1) + ────────────── + 1000⋅d + it⋅(\n",
       "                                                      2                       \n",
       "\n",
       "               \n",
       "2⋅N + 2) + 4⋅it\n",
       "               "
      ]
     },
     "execution_count": 55,
     "metadata": {},
     "output_type": "execute_result"
    }
   ],
   "source": [
    "it, D, N, d = symbols('it D N d')\n",
    "count_measure = (\"add\", \"mult\", \"div\", \"exp\", \"log\")\n",
    "flops = {\n",
    "    \"normalize\": {\n",
    "        \"add\": 2 * N * D,\n",
    "        \"div\": D + N * D\n",
    "    },\n",
    "    \"compute_pairwise_affinity_perplexity\": {\n",
    "        \"compute_squared_euclidean_distance\": {\n",
    "            \"add\": D * N * (N - 1) / 2 * 2,\n",
    "            \"mult\": D * N * (N - 1) / 2\n",
    "        },\n",
    "        \"binary_search\": {\n",
    "            \"add\": it * (N + N + 1 + 1),\n",
    "            \"mult\": it * (N + 2 * N),\n",
    "            \"div\": it * (1 + 1) + N * N,\n",
    "            \"exp\": it * N,\n",
    "            \"log\": it * (1 + 1)\n",
    "        }\n",
    "    },\n",
    "    \"symmetrize_affinities\": {\n",
    "        \"add\": N * (N - 1) / 2 + N * N,\n",
    "        \"div\": N * N\n",
    "    },\n",
    "    \"early_exageration\": {\n",
    "        \"mult\": 2 * N * N\n",
    "    },\n",
    "    \"compute_low_dimensional_affinities\": {\n",
    "        \"compute_squared_euclidean_distance\": {\n",
    "            \"add\": T * d * N * (N - 1) / 2 * 2,\n",
    "            \"mult\": T * d * N * (N - 1) / 2\n",
    "        },\n",
    "        \"compute\": {\n",
    "            \"add\": T * N * (N - 1) * 2,\n",
    "            \"div\": T * N * (N - 1)\n",
    "        }\n",
    "    },\n",
    "    \"gradient_computation\": {\n",
    "        \"add\": T * N * (N - 1) * (1 + 2 * d),\n",
    "        \"mult\": T * N * (N - 1) * (1 + d),\n",
    "        \"div\": T * N * (N - 1)\n",
    "    },\n",
    "    \"gradient_update\": {\n",
    "        \"add\": T * (N * d + N * d * 2),\n",
    "        \"mult\": T * N * d * 3\n",
    "    },\n",
    "    \"normalize_2\": {\n",
    "        \"add\": T * 2 * N * d,\n",
    "        \"div\": T * (d + N * d)\n",
    "    }\n",
    "}\n",
    "\n",
    "flops_by_function_measure = dict(flops)\n",
    "flops_by_function_measure[\"compute_pairwise_affinity_perplexity\"] = \\\n",
    "    sum_operations_by_measure(flops[\"compute_pairwise_affinity_perplexity\"])\n",
    "flops_by_function_measure[\"compute_low_dimensional_affinities\"] = \\\n",
    "    sum_operations_by_measure(flops[\"compute_low_dimensional_affinities\"])\n",
    "\n",
    "total_flops = 0\n",
    "for func in FUNCTION_NAMES:\n",
    "    total = 0\n",
    "    for cname in count_measure:\n",
    "        if cname in flops_by_function_measure[func]:\n",
    "            total = total + flops_by_function_measure[func][cname]\n",
    "    flops_by_function_measure[func][\"total\"] = total\n",
    "    total_flops = total_flops + total \n",
    "\n",
    "iters = np.loadtxt(\"../implementations/tsne_exact_optimizations/benchmarking/20170503_121229@-O3 -march=native -std=c++11@double@\" + \"iters.txt\")\n",
    "        \n",
    "total_flops"
   ]
  },
  {
   "cell_type": "code",
   "execution_count": 56,
   "metadata": {},
   "outputs": [
    {
     "data": {
      "text/plain": [
       "array([ 20.455     ,  20.67      ,  20.66833333,  20.53      ,\n",
       "        20.592     ,  20.54833333,  20.50285714,  20.536875  ,\n",
       "        20.415     ,  20.3965    ,  20.38181818,  20.32958333,\n",
       "        20.32846154,  20.30678571,  20.253     ])"
      ]
     },
     "execution_count": 56,
     "metadata": {},
     "output_type": "execute_result"
    }
   ],
   "source": [
    "iters = np.loadtxt(\"../implementations/tsne_exact_optimizations/benchmarking/20170503_121229@-O3 -march=native -std=c++11@double@\" + \"iters.txt\")\n",
    "n = 200 + np.array(range(iters.shape[0]))*200\n",
    "iters/n\n",
    "# we conclude it = 20*N"
   ]
  },
  {
   "cell_type": "code",
   "execution_count": 57,
   "metadata": {},
   "outputs": [
    {
     "name": "stdout",
     "output_type": "stream",
     "text": [
      "3*D*N**2/2 + 3*D*N/2 + D + 4500*N**2*d + 12251*N**2/2 + 4500*N*d - 11761*N/2 + 1000*d\n"
     ]
    }
   ],
   "source": [
    "W = simplify(total_flops.subs(it, 20*N))\n",
    "print(W)"
   ]
  },
  {
   "cell_type": "markdown",
   "metadata": {},
   "source": [
    "#### Read\n",
    "X: N*D float\n",
    "\n",
    "##### Temporary Data (at least Read)\n",
    "High Dim Perplexities N*N\n",
    "Low Dim Perplexities N*N\n",
    "gradients N*d\n",
    "Low Dim Temporary Data 2*N*d\n",
    "\n",
    "#### Read/Write\n",
    "Y: N*d float"
   ]
  },
  {
   "cell_type": "code",
   "execution_count": 61,
   "metadata": {},
   "outputs": [
    {
     "data": {
      "image/png": "[encoded data removed]",
      "text/latex": [
       "$$\\frac{1}{8 N \\left(D + 2 d\\right)} \\left(3 D N^{2} + 3 D N + 2 D + 9000 N^{2} d + 12251 N^{2} + 9000 N d - 11761 N + 2000 d\\right)$$"
      ],
      "text/plain": [
       "     2                       2            2                              \n",
       "3⋅D⋅N  + 3⋅D⋅N + 2⋅D + 9000⋅N ⋅d + 12251⋅N  + 9000⋅N⋅d - 11761⋅N + 2000⋅d\n",
       "─────────────────────────────────────────────────────────────────────────\n",
       "                              8⋅N⋅(D + 2⋅d)                              "
      ]
     },
     "execution_count": 61,
     "metadata": {},
     "output_type": "execute_result"
    }
   ],
   "source": [
    "Q1 = 4*(N*D + 2*N*d)\n",
    "Q2 = 4*(N*D + 2*N*d + 2*N*N + N*d + 2*N*d)\n",
    "I1 = W/Q1\n",
    "I2 = W/Q2\n",
    "simplify(I1)"
   ]
  },
  {
   "cell_type": "code",
   "execution_count": 62,
   "metadata": {},
   "outputs": [
    {
     "data": {
      "image/png": "[encoded data removed]",
      "text/latex": [
       "$$\\frac{1}{8 N \\left(D + 2 N + 5 d\\right)} \\left(3 D N^{2} + 3 D N + 2 D + 9000 N^{2} d + 12251 N^{2} + 9000 N d - 11761 N + 2000 d\\right)$$"
      ],
      "text/plain": [
       "     2                       2            2                              \n",
       "3⋅D⋅N  + 3⋅D⋅N + 2⋅D + 9000⋅N ⋅d + 12251⋅N  + 9000⋅N⋅d - 11761⋅N + 2000⋅d\n",
       "─────────────────────────────────────────────────────────────────────────\n",
       "                           8⋅N⋅(D + 2⋅N + 5⋅d)                           "
      ]
     },
     "execution_count": 62,
     "metadata": {},
     "output_type": "execute_result"
    }
   ],
   "source": [
    "simplify(I2)"
   ]
  },
  {
   "cell_type": "code",
   "execution_count": 59,
   "metadata": {},
   "outputs": [
    {
     "data": {
      "image/png": "[encoded data removed]",
      "text/latex": [
       "$$\\frac{1}{6304 N} \\left(32603 N^{2} + 8591 N + 5568\\right)$$"
      ],
      "text/plain": [
       "       2                \n",
       "32603⋅N  + 8591⋅N + 5568\n",
       "────────────────────────\n",
       "         6304⋅N         "
      ]
     },
     "execution_count": 59,
     "metadata": {},
     "output_type": "execute_result"
    }
   ],
   "source": [
    "simplify(I1.subs(d, 2).subs(D, 784))"
   ]
  },
  {
   "cell_type": "code",
   "execution_count": 50,
   "metadata": {},
   "outputs": [
    {
     "data": {
      "image/png": "[encoded data removed]",
      "text/latex": [
       "$$\\frac{32603 N^{2} + 8591 N + 5568}{16 N \\left(N + 397\\right)}$$"
      ],
      "text/plain": [
       "       2                \n",
       "32603⋅N  + 8591⋅N + 5568\n",
       "────────────────────────\n",
       "     16⋅N⋅(N + 397)     "
      ]
     },
     "execution_count": 50,
     "metadata": {},
     "output_type": "execute_result"
    }
   ],
   "source": [
    "simplify(I2.subs(d, 2).subs(D, 784))"
   ]
  },
  {
   "cell_type": "code",
   "execution_count": null,
   "metadata": {
    "collapsed": true
   },
   "outputs": [],
   "source": []
  }
 ],
 "metadata": {
  "kernelspec": {
   "display_name": "Python 3",
   "language": "python",
   "name": "python3"
  },
  "language_info": {
   "codemirror_mode": {
    "name": "ipython",
    "version": 3
   },
   "file_extension": ".py",
   "mimetype": "text/x-python",
   "name": "python",
   "nbconvert_exporter": "python",
   "pygments_lexer": "ipython3",
   "version": "3.6.1"
  }
 },
 "nbformat": 4,
 "nbformat_minor": 2
}
