{
 "cells": [
  {
   "cell_type": "markdown",
   "metadata": {},
   "source": [
    "# Operational Intensity Count"
   ]
  },
  {
   "cell_type": "code",
   "execution_count": 1,
   "metadata": {
    "collapsed": true
   },
   "outputs": [],
   "source": [
    "import numpy as np"
   ]
  },
  {
   "cell_type": "code",
   "execution_count": 2,
   "metadata": {},
   "outputs": [
    {
     "name": "stdout",
     "output_type": "stream",
     "text": [
      "beta:\t2.93 bytes/cycle\n",
      "pi:\t4 flops/cycle\n"
     ]
    }
   ],
   "source": [
    "N = 200\n",
    "D = 28*28\n",
    "d = 2\n",
    "T = 1000\n",
    "\n",
    "\n",
    "bandwidth = 7917e6   # Bytes/s\n",
    "freq = 2.7e9          # Cycles/s\n",
    "beta = bandwidth/freq # bytes/cycle\n",
    "pi = 4                # flops/cycle\n",
    "data_type = \"double\"\n",
    "\n",
    "print(f\"beta:\\t{beta:.2f} bytes/cycle\")\n",
    "print(f\"pi:\\t{pi} flops/cycle\")\n",
    "\n",
    "def check_bound(I):\n",
    "    if I < pi / beta:\n",
    "        print(\"Memory Bound\")\n",
    "    else:\n",
    "        print(\"Compue bound\")\n",
    "        \n",
    "size = 8 if data_type == \"double\" else 4"
   ]
  },
  {
   "cell_type": "code",
   "execution_count": 3,
   "metadata": {},
   "outputs": [
    {
     "name": "stdout",
     "output_type": "stream",
     "text": [
      "normalize_data\n",
      "I = 0.373 flops/byte\n",
      "Memory Bound\n"
     ]
    }
   ],
   "source": [
    "print(\"normalize_data\")\n",
    "\n",
    "W = 3 * N * D # + O(D)\n",
    "Q = (N + 1) * D # doubles\n",
    "I = W/(size * Q)\n",
    "print(f\"I = {I:.3f} flops/byte\")\n",
    "check_bound(I)"
   ]
  },
  {
   "cell_type": "code",
   "execution_count": 4,
   "metadata": {},
   "outputs": [
    {
     "name": "stdout",
     "output_type": "stream",
     "text": [
      "compute_euclidean_distance\n",
      "I = 29.878 flops/byte\n",
      "Compue bound\n"
     ]
    }
   ],
   "source": [
    "print(\"compute_euclidean_distance\")\n",
    "\n",
    "W = 3 / 2 * N * N * D # + O(D)\n",
    "Q = (N * D + N**2)\n",
    "I = W/(size*Q)\n",
    "print(f\"I = {I:.3f} flops/byte\")\n",
    "check_bound(I)"
   ]
  },
  {
   "cell_type": "code",
   "execution_count": 5,
   "metadata": {},
   "outputs": [
    {
     "name": "stdout",
     "output_type": "stream",
     "text": [
      "compute_pairwise_affinity_perplexity\n",
      "I = 0.101 flops/byte\n",
      "Memory Bound\n"
     ]
    }
   ],
   "source": [
    "input_size = np.arange(200, 3000+1, 200)\n",
    "iters = np.loadtxt(\n",
    "    \"../implementations/tsne_exact_optimizations/benchmarking/20170508_191525@-O3 -std=c++11@double@iters.txt\")\n",
    "it = np.mean(iters/input_size)\n",
    "\n",
    "print(\"compute_pairwise_affinity_perplexity\")\n",
    "W = it * (N + N + 1 + 1 + N + 2*N + 1 + 1 + N + 1 + 1) + N**2\n",
    "Q = 2 * N**2\n",
    "I = W/(size*Q)\n",
    "print(f\"I = {I:.3f} flops/byte\")\n",
    "check_bound(I)"
   ]
  },
  {
   "cell_type": "code",
   "execution_count": 6,
   "metadata": {},
   "outputs": [
    {
     "name": "stdout",
     "output_type": "stream",
     "text": [
      "symmetrize_affinities\n",
      "I = 0.312 flops/byte\n",
      "Memory Bound\n"
     ]
    }
   ],
   "source": [
    "print(\"symmetrize_affinities\")\n",
    "W = N*(N-1) / 2 + N*N + N**2\n",
    "Q = N**2\n",
    "I = W/(size*Q)\n",
    "print(f\"I = {I:.3f} flops/byte\")\n",
    "check_bound(I)"
   ]
  },
  {
   "cell_type": "code",
   "execution_count": 7,
   "metadata": {},
   "outputs": [
    {
     "name": "stdout",
     "output_type": "stream",
     "text": [
      "early_exageration\n",
      "I = 0.125 flops/byte\n",
      "Memory Bound\n"
     ]
    }
   ],
   "source": [
    "print(\"early_exageration\")\n",
    "W = N**2\n",
    "Q = N**2\n",
    "I = W/(size*Q)\n",
    "print(f\"I = {I:.3f} flops/byte\")\n",
    "check_bound(I)"
   ]
  },
  {
   "cell_type": "code",
   "execution_count": 8,
   "metadata": {},
   "outputs": [
    {
     "name": "stdout",
     "output_type": "stream",
     "text": [
      "compute_low_dimensional_affinities\n",
      "I = 0.373 flops/byte\n",
      "Memory Bound\n"
     ]
    }
   ],
   "source": [
    "print(\"compute_low_dimensional_affinities\")\n",
    "W = N * (N-1) * 3\n",
    "Q = N**2\n",
    "I = W/(size*Q)\n",
    "print(f\"I = {I:.3f} flops/byte\")\n",
    "check_bound(I)"
   ]
  },
  {
   "cell_type": "code",
   "execution_count": 9,
   "metadata": {},
   "outputs": [
    {
     "name": "stdout",
     "output_type": "stream",
     "text": [
      "gradient_computation\n",
      "I = 0.554 flops/byte\n",
      "Memory Bound\n"
     ]
    }
   ],
   "source": [
    "print(\"gradient_computation\")\n",
    "W = N * (N-1) * (1 + 2*d) + N * (N-1) * (1 + d) + N * (N-1)\n",
    "Q = N * d + N**2 + N**2 + N*d\n",
    "I = W/(size*Q)\n",
    "print(f\"I = {I:.3f} flops/byte\")\n",
    "check_bound(I)"
   ]
  },
  {
   "cell_type": "code",
   "execution_count": 10,
   "metadata": {},
   "outputs": [
    {
     "name": "stdout",
     "output_type": "stream",
     "text": [
      "gradient_update\n",
      "I = 0.250 flops/byte\n",
      "Memory Bound\n"
     ]
    }
   ],
   "source": [
    "print(\"gradient_update\")\n",
    "W = N * d * 2 + N*d + N * d * 3\n",
    "Q = N*d + N*d + N*d\n",
    "I = W/(size*Q)\n",
    "print(f\"I = {I:.3f} flops/byte\")\n",
    "check_bound(I)"
   ]
  },
  {
   "cell_type": "code",
   "execution_count": 11,
   "metadata": {},
   "outputs": [
    {
     "name": "stdout",
     "output_type": "stream",
     "text": [
      "normalize_2\n",
      "I = 0.374 flops/byte\n",
      "Memory Bound\n"
     ]
    }
   ],
   "source": [
    "print(\"normalize_2\")\n",
    "W = 2 * N * d + d + N * d\n",
    "Q = N*d + d\n",
    "I = W/(size*Q)\n",
    "print(f\"I = {I:.3f} flops/byte\")\n",
    "check_bound(I)"
   ]
  }
 ],
 "metadata": {
  "kernelspec": {
   "display_name": "Python 3",
   "language": "python",
   "name": "python3"
  },
  "language_info": {
   "codemirror_mode": {
    "name": "ipython",
    "version": 3
   },
   "file_extension": ".py",
   "mimetype": "text/x-python",
   "name": "python",
   "nbconvert_exporter": "python",
   "pygments_lexer": "ipython3",
   "version": "3.6.1"
  }
 },
 "nbformat": 4,
 "nbformat_minor": 2
}
