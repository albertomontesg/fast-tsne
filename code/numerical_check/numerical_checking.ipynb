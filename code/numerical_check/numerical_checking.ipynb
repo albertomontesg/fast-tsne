{
 "cells": [
  {
   "cell_type": "markdown",
   "metadata": {},
   "source": [
    "# Numerical Checking of t-SNE algorithm [$\\mathcal{O}(n^2)$ version]"
   ]
  },
  {
   "cell_type": "code",
   "execution_count": 1,
   "metadata": {
    "collapsed": true
   },
   "outputs": [],
   "source": [
    "import numpy as np\n",
    "import matplotlib.pyplot as plt\n",
    "%matplotlib inline\n",
    "\n",
    "import struct\n",
    "import os"
   ]
  },
  {
   "cell_type": "code",
   "execution_count": 2,
   "metadata": {
    "collapsed": true
   },
   "outputs": [],
   "source": [
    "def read_results(file_name):\n",
    "    \"\"\" Read results file\n",
    "    \"\"\"\n",
    "    with open(file_name, 'rb') as fil:\n",
    "        N, D = struct.unpack('II', fil.read(8))\n",
    "        print(f\"N={N}\\tD={D}\")\n",
    "        Y = np.array(struct.unpack(\"{}d\".format(N * D), fil.read(8 * N * D)))\n",
    "        Y = Y.reshape(N, D)\n",
    "    return Y"
   ]
  },
  {
   "cell_type": "markdown",
   "metadata": {},
   "source": [
    "## X normalized"
   ]
  },
  {
   "cell_type": "code",
   "execution_count": 3,
   "metadata": {},
   "outputs": [
    {
     "name": "stdout",
     "output_type": "stream",
     "text": [
      "N=1000\tD=784\n",
      "N=1000\tD=784\n"
     ]
    }
   ],
   "source": [
    "file_name = \"X_normalized\"\n",
    "\n",
    "X_1 = read_results(os.path.join(\"../implementations/original\", \"datum\", file_name))\n",
    "X_2 = read_results(os.path.join(\"../implementations/naive_tsne\", \"datum\", file_name))"
   ]
  },
  {
   "cell_type": "code",
   "execution_count": 4,
   "metadata": {},
   "outputs": [
    {
     "name": "stdout",
     "output_type": "stream",
     "text": [
      "Max diff: 0.0\n",
      "Min diff: 0.0\n",
      "Std: 0.0\n"
     ]
    }
   ],
   "source": [
    "diff = np.abs(X_1 - X_2)\n",
    "\n",
    "print(f\"Max diff: {diff.max()}\\nMin diff: {diff.min()}\\nStd: {diff.std()}\")"
   ]
  },
  {
   "cell_type": "markdown",
   "metadata": {},
   "source": [
    "## Pairwise affinities $P_{i|j}$"
   ]
  },
  {
   "cell_type": "code",
   "execution_count": 5,
   "metadata": {},
   "outputs": [
    {
     "name": "stdout",
     "output_type": "stream",
     "text": [
      "N=1000\tD=1000\n",
      "N=1000\tD=1000\n"
     ]
    }
   ],
   "source": [
    "file_name = \"P\"\n",
    "\n",
    "X_1 = read_results(os.path.join(\"../implementations/original\", \"datum\", file_name))\n",
    "X_2 = read_results(os.path.join(\"../implementations/naive_tsne\", \"datum\", file_name))"
   ]
  },
  {
   "cell_type": "code",
   "execution_count": 6,
   "metadata": {},
   "outputs": [
    {
     "name": "stdout",
     "output_type": "stream",
     "text": [
      "Max diff: 0.0\n",
      "Min diff: 0.0\n",
      "Std: 0.0\n"
     ]
    }
   ],
   "source": [
    "diff = np.abs(X_1 - X_2)\n",
    "re = diff / max(X_1.max(), X_2.max())\n",
    "\n",
    "print(f\"Max diff: {re.max()}\\nMin diff: {re.min()}\\nStd: {re.std()}\")"
   ]
  },
  {
   "cell_type": "markdown",
   "metadata": {},
   "source": [
    "## Symmetric affinities $P_{ij}$"
   ]
  },
  {
   "cell_type": "code",
   "execution_count": 7,
   "metadata": {},
   "outputs": [
    {
     "name": "stdout",
     "output_type": "stream",
     "text": [
      "N=1000\tD=1000\n",
      "N=1000\tD=1000\n"
     ]
    }
   ],
   "source": [
    "file_name = \"P_sym\"\n",
    "\n",
    "X_1 = read_results(os.path.join(\"../implementations/original\", \"datum\", file_name))\n",
    "X_2 = read_results(os.path.join(\"../implementations/naive_tsne\", \"datum\", file_name))"
   ]
  },
  {
   "cell_type": "code",
   "execution_count": 8,
   "metadata": {},
   "outputs": [
    {
     "name": "stdout",
     "output_type": "stream",
     "text": [
      "Max diff: 0.0\n",
      "Min diff: 0.0\n",
      "Std: 0.0\n"
     ]
    }
   ],
   "source": [
    "diff = np.abs(X_1 - X_2)\n",
    "\n",
    "print(f\"Max diff: {diff.max()}\\nMin diff: {diff.min()}\\nStd: {diff.std()}\")"
   ]
  },
  {
   "cell_type": "markdown",
   "metadata": {},
   "source": [
    "## Low dimensional affinities $Q_{ij}$"
   ]
  },
  {
   "cell_type": "code",
   "execution_count": 9,
   "metadata": {},
   "outputs": [
    {
     "name": "stdout",
     "output_type": "stream",
     "text": [
      "N=1000\tD=1000\n",
      "N=1000\tD=1000\n",
      "Max diff: 4.2802955591003666e-07\n",
      "Min diff: 0.0\n",
      "Std diff: 3.9507874252386045e-08\n",
      "\n",
      "Max relative error: 4.2802955591003666e-07\n",
      "Min relative error: 0.0\n",
      "Std relative error: 3.9507874252386045e-08\n"
     ]
    }
   ],
   "source": [
    "file_name = \"Q_0\"\n",
    "\n",
    "X_1 = read_results(os.path.join(\"../implementations/original\", \"datum\", file_name))\n",
    "X_2 = read_results(os.path.join(\"../implementations/naive_tsne\", \"datum\", file_name))\n",
    "diff = np.abs(X_1 - X_2)\n",
    "re = diff / max(X_1.max(), X_2.max())\n",
    "\n",
    "print(f\"Max diff: {diff.max()}\\nMin diff: {diff.min()}\\nStd diff: {diff.std()}\\n\")\n",
    "print(f\"Max relative error: {diff.max()}\\nMin relative error: {diff.min()}\\nStd relative error: {diff.std()}\")"
   ]
  },
  {
   "cell_type": "code",
   "execution_count": 18,
   "metadata": {},
   "outputs": [
    {
     "name": "stdout",
     "output_type": "stream",
     "text": [
      "N=1000\tD=1000\n",
      "N=1000\tD=1000\n",
      "Max diff: 3.504529999531769e-12\n",
      "Min diff: 0.0\n",
      "Std diff: 2.994292570633578e-13\n",
      "\n",
      "Max relative error: 3.504529999531769e-12\n",
      "Min relative error: 0.0\n",
      "Std relative error: 2.994292570633578e-13\n"
     ]
    }
   ],
   "source": [
    "file_name = \"Q_300\"\n",
    "\n",
    "X_1 = read_results(os.path.join(\"../implementations/original\", \"datum\", file_name))\n",
    "X_2 = read_results(os.path.join(\"../implementations/naive_tsne\", \"datum\", file_name))\n",
    "diff = np.abs(X_1 - X_2)\n",
    "re = diff / max(X_1.max(), X_2.max())\n",
    "\n",
    "print(f\"Max diff: {diff.max()}\\nMin diff: {diff.min()}\\nStd diff: {diff.std()}\\n\")\n",
    "print(f\"Max relative error: {diff.max()}\\nMin relative error: {diff.min()}\\nStd relative error: {diff.std()}\")"
   ]
  },
  {
   "cell_type": "markdown",
   "metadata": {},
   "source": [
    "## Gradients $\\frac{dC}{d\\mathcal{Y}}$"
   ]
  },
  {
   "cell_type": "code",
   "execution_count": 11,
   "metadata": {},
   "outputs": [
    {
     "name": "stdout",
     "output_type": "stream",
     "text": [
      "N=1000\tD=2\n",
      "N=1000\tD=2\n",
      "Max diff: 7.381749032366355e-06\n",
      "Min diff: 5.569589148451108e-12\n",
      "Std diff: 1.063526546164025e-06\n",
      "\n",
      "Max relative error: 7.381749032366355e-06\n",
      "Min relative error: 5.569589148451108e-12\n",
      "Std relative error: 1.063526546164025e-06\n"
     ]
    }
   ],
   "source": [
    "file_name = \"dC_0\"\n",
    "\n",
    "X_1 = read_results(os.path.join(\"../implementations/original\", \"datum\", file_name))\n",
    "X_2 = read_results(os.path.join(\"../implementations/naive_tsne\", \"datum\", file_name))\n",
    "diff = np.abs(X_1 - X_2)\n",
    "re = diff / max(X_1.max(), X_2.max())\n",
    "\n",
    "print(f\"Max diff: {diff.max()}\\nMin diff: {diff.min()}\\nStd diff: {diff.std()}\\n\")\n",
    "print(f\"Max relative error: {diff.max()}\\nMin relative error: {diff.min()}\\nStd relative error: {diff.std()}\")"
   ]
  },
  {
   "cell_type": "code",
   "execution_count": 19,
   "metadata": {},
   "outputs": [
    {
     "name": "stdout",
     "output_type": "stream",
     "text": [
      "N=1000\tD=2\n",
      "N=1000\tD=2\n",
      "Max diff: 9.497611688383575e-10\n",
      "Min diff: 3.128957258703107e-14\n",
      "Std diff: 1.3294869535028852e-10\n",
      "\n",
      "Max relative error: 9.497611688383575e-10\n",
      "Min relative error: 3.128957258703107e-14\n",
      "Std relative error: 1.3294869535028852e-10\n"
     ]
    }
   ],
   "source": [
    "file_name = \"dC_300\"\n",
    "\n",
    "X_1 = read_results(os.path.join(\"../implementations/original\", \"datum\", file_name))\n",
    "X_2 = read_results(os.path.join(\"../implementations/naive_tsne\", \"datum\", file_name))\n",
    "diff = np.abs(X_1 - X_2)\n",
    "re = diff / max(X_1.max(), X_2.max())\n",
    "\n",
    "print(f\"Max diff: {diff.max()}\\nMin diff: {diff.min()}\\nStd diff: {diff.std()}\\n\")\n",
    "print(f\"Max relative error: {diff.max()}\\nMin relative error: {diff.min()}\\nStd relative error: {diff.std()}\")"
   ]
  },
  {
   "cell_type": "markdown",
   "metadata": {},
   "source": [
    "## Output Embedding $\\mathcal{Y}$"
   ]
  },
  {
   "cell_type": "code",
   "execution_count": 21,
   "metadata": {},
   "outputs": [
    {
     "name": "stdout",
     "output_type": "stream",
     "text": [
      "N=1000\tD=2\n",
      "N=1000\tD=2\n",
      "Max diff: 0.0012382185750860783\n",
      "Min diff: 1.430077980801224e-08\n",
      "Std diff: 0.00018109633930966237\n",
      "\n",
      "Max relative error: 0.0012382185750860783\n",
      "Min relative error: 1.430077980801224e-08\n",
      "Std relative error: 0.00018109633930966237\n"
     ]
    }
   ],
   "source": [
    "file_name = \"Y_0\"\n",
    "\n",
    "X_1 = read_results(os.path.join(\"../implementations/original\", \"datum\", file_name))\n",
    "X_2 = read_results(os.path.join(\"../implementations/naive_tsne\", \"datum\", file_name))\n",
    "diff = np.abs(X_1 - X_2)\n",
    "re = diff / max(X_1.max(), X_2.max())\n",
    "\n",
    "print(f\"Max diff: {diff.max()}\\nMin diff: {diff.min()}\\nStd diff: {diff.std()}\\n\")\n",
    "print(f\"Max relative error: {diff.max()}\\nMin relative error: {diff.min()}\\nStd relative error: {diff.std()}\")"
   ]
  },
  {
   "cell_type": "code",
   "execution_count": 20,
   "metadata": {},
   "outputs": [
    {
     "name": "stdout",
     "output_type": "stream",
     "text": [
      "N=1000\tD=2\n",
      "N=1000\tD=2\n",
      "Max diff: 0.001245202005563082\n",
      "Min diff: 1.3511796938847393e-07\n",
      "Std diff: 0.00018104555033411285\n",
      "\n",
      "Max relative error: 0.001245202005563082\n",
      "Min relative error: 1.3511796938847393e-07\n",
      "Std relative error: 0.00018104555033411285\n"
     ]
    }
   ],
   "source": [
    "file_name = \"Y_0_normalized\"\n",
    "\n",
    "X_1 = read_results(os.path.join(\"../implementations/original\", \"datum\", file_name))\n",
    "X_2 = read_results(os.path.join(\"../implementations/naive_tsne\", \"datum\", file_name))\n",
    "diff = np.abs(X_1 - X_2)\n",
    "re = diff / max(X_1.max(), X_2.max())\n",
    "\n",
    "print(f\"Max diff: {diff.max()}\\nMin diff: {diff.min()}\\nStd diff: {diff.std()}\\n\")\n",
    "print(f\"Max relative error: {diff.max()}\\nMin relative error: {diff.min()}\\nStd relative error: {diff.std()}\")"
   ]
  },
  {
   "cell_type": "code",
   "execution_count": 22,
   "metadata": {},
   "outputs": [
    {
     "name": "stdout",
     "output_type": "stream",
     "text": [
      "N=1000\tD=2\n",
      "N=1000\tD=2\n",
      "Max diff: 4.053361724314898e-06\n",
      "Min diff: 1.52427347636616e-10\n",
      "Std diff: 5.143516072383088e-07\n",
      "\n",
      "Max relative error: 4.053361724314898e-06\n",
      "Min relative error: 1.52427347636616e-10\n",
      "Std relative error: 5.143516072383088e-07\n"
     ]
    }
   ],
   "source": [
    "file_name = \"Y_300\"\n",
    "\n",
    "X_1 = read_results(os.path.join(\"../implementations/original\", \"datum\", file_name))\n",
    "X_2 = read_results(os.path.join(\"../implementations/naive_tsne\", \"datum\", file_name))\n",
    "diff = np.abs(X_1 - X_2)\n",
    "re = diff / max(X_1.max(), X_2.max())\n",
    "\n",
    "print(f\"Max diff: {diff.max()}\\nMin diff: {diff.min()}\\nStd diff: {diff.std()}\\n\")\n",
    "print(f\"Max relative error: {diff.max()}\\nMin relative error: {diff.min()}\\nStd relative error: {diff.std()}\")"
   ]
  },
  {
   "cell_type": "code",
   "execution_count": 23,
   "metadata": {},
   "outputs": [
    {
     "name": "stdout",
     "output_type": "stream",
     "text": [
      "N=1000\tD=2\n",
      "N=1000\tD=2\n",
      "Max diff: 4.052686322730438e-06\n",
      "Min diff: 6.618787393569448e-10\n",
      "Std diff: 5.140223577919975e-07\n",
      "\n",
      "Max relative error: 4.052686322730438e-06\n",
      "Min relative error: 6.618787393569448e-10\n",
      "Std relative error: 5.140223577919975e-07\n"
     ]
    }
   ],
   "source": [
    "file_name = \"Y_300_normalized\"\n",
    "\n",
    "X_1 = read_results(os.path.join(\"../implementations/original\", \"datum\", file_name))\n",
    "X_2 = read_results(os.path.join(\"../implementations/naive_tsne\", \"datum\", file_name))\n",
    "diff = np.abs(X_1 - X_2)\n",
    "re = diff / max(X_1.max(), X_2.max())\n",
    "\n",
    "print(f\"Max diff: {diff.max()}\\nMin diff: {diff.min()}\\nStd diff: {diff.std()}\\n\")\n",
    "print(f\"Max relative error: {diff.max()}\\nMin relative error: {diff.min()}\\nStd relative error: {diff.std()}\")"
   ]
  }
 ],
 "metadata": {
  "kernelspec": {
   "display_name": "Python 3",
   "language": "python",
   "name": "python3"
  },
  "language_info": {
   "codemirror_mode": {
    "name": "ipython",
    "version": 3
   },
   "file_extension": ".py",
   "mimetype": "text/x-python",
   "name": "python",
   "nbconvert_exporter": "python",
   "pygments_lexer": "ipython3",
   "version": "3.6.1"
  }
 },
 "nbformat": 4,
 "nbformat_minor": 2
}
