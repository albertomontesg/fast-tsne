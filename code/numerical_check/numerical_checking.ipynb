{
 "cells": [
  {
   "cell_type": "markdown",
   "metadata": {},
   "source": [
    "# Numerical Checking of t-SNE algorithm [$\\mathcal{O}(n^2)$ version]"
   ]
  },
  {
   "cell_type": "code",
   "execution_count": 29,
   "metadata": {
    "collapsed": true
   },
   "outputs": [],
   "source": [
    "import numpy as np\n",
    "import matplotlib.pyplot as plt\n",
    "%matplotlib inline\n",
    "\n",
    "import struct\n",
    "import os"
   ]
  },
  {
   "cell_type": "code",
   "execution_count": 30,
   "metadata": {
    "collapsed": true
   },
   "outputs": [],
   "source": [
    "def read_results(file_name, double=True):\n",
    "    \"\"\" Read results file\n",
    "    \"\"\"\n",
    "    sizeof = 8 if double else 4\n",
    "    str_type = \"{}d\" if double else \"{}f\"\n",
    "    \n",
    "    with open(file_name, 'rb') as fil:\n",
    "        N, D = struct.unpack('II', fil.read(8))\n",
    "        print(\"N={}\\tD={}\".format(N, D))\n",
    "        Y = np.array(struct.unpack(str_type.format(N * D), fil.read(sizeof * N * D)))\n",
    "        Y = Y.reshape(N, D)\n",
    "    return Y"
   ]
  },
  {
   "cell_type": "markdown",
   "metadata": {},
   "source": [
    "## X"
   ]
  },
  {
   "cell_type": "code",
   "execution_count": 31,
   "metadata": {},
   "outputs": [
    {
     "name": "stdout",
     "output_type": "stream",
     "text": [
      "N=1000\tD=784\n"
     ]
    }
   ],
   "source": [
    "file_name = \"X\"\n",
    "\n",
    "X_2 = read_results(os.path.join(\"../implementations/tsne_exact_optimizations\", \"datum\", file_name))"
   ]
  },
  {
   "cell_type": "code",
   "execution_count": 32,
   "metadata": {},
   "outputs": [
    {
     "data": {
      "image/png": "[encoded data removed]",
      "text/plain": [
       "<matplotlib.figure.Figure at 0x10d65bd68>"
      ]
     },
     "metadata": {},
     "output_type": "display_data"
    }
   ],
   "source": [
    "plt.matshow(X_2[0,:].reshape(28,28),cmap=\"gray\")\n",
    "plt.axis(\"off\")\n",
    "plt.show()"
   ]
  },
  {
   "cell_type": "markdown",
   "metadata": {},
   "source": [
    "## X normalized"
   ]
  },
  {
   "cell_type": "code",
   "execution_count": 33,
   "metadata": {},
   "outputs": [
    {
     "name": "stdout",
     "output_type": "stream",
     "text": [
      "N=1000\tD=784\n",
      "N=1000\tD=784\n"
     ]
    }
   ],
   "source": [
    "file_name = \"X_normalized\"\n",
    "\n",
    "X_1 = read_results(os.path.join(\"../implementations/original\", \"datum\", file_name))\n",
    "X_2 = read_results(os.path.join(\"../implementations/tsne_exact_optimizations\", \"datum\", file_name))"
   ]
  },
  {
   "cell_type": "code",
   "execution_count": 34,
   "metadata": {},
   "outputs": [
    {
     "name": "stdout",
     "output_type": "stream",
     "text": [
      "Max diff: 0.0\n",
      "Min diff: 0.0\n",
      "Std: 0.0\n"
     ]
    }
   ],
   "source": [
    "diff = np.abs(X_1 - X_2)\n",
    "\n",
    "print(f\"Max diff: {diff.max()}\\nMin diff: {diff.min()}\\nStd: {diff.std()}\")"
   ]
  },
  {
   "cell_type": "code",
   "execution_count": 35,
   "metadata": {},
   "outputs": [
    {
     "data": {
      "image/png": "[encoded data removed]",
      "text/plain": [
       "<matplotlib.figure.Figure at 0x10d641630>"
      ]
     },
     "metadata": {},
     "output_type": "display_data"
    }
   ],
   "source": [
    "plt.matshow(X_2[0,:].reshape(28,28),cmap=\"gray\")\n",
    "plt.axis(\"off\")\n",
    "plt.show()"
   ]
  },
  {
   "cell_type": "markdown",
   "metadata": {},
   "source": [
    "## Pairwise affinities $P_{i|j}$"
   ]
  },
  {
   "cell_type": "code",
   "execution_count": 36,
   "metadata": {},
   "outputs": [
    {
     "name": "stdout",
     "output_type": "stream",
     "text": [
      "N=1000\tD=1000\n",
      "N=1000\tD=1000\n"
     ]
    }
   ],
   "source": [
    "file_name = \"P\"\n",
    "\n",
    "X_1 = read_results(os.path.join(\"../implementations/original\", \"datum\", file_name))\n",
    "X_2 = read_results(os.path.join(\"../implementations/tsne_exact_optimizations\", \"datum\", file_name))"
   ]
  },
  {
   "cell_type": "code",
   "execution_count": 37,
   "metadata": {},
   "outputs": [
    {
     "name": "stdout",
     "output_type": "stream",
     "text": [
      "Max diff: 0.0\n",
      "Min diff: 0.0\n",
      "Std: 0.0\n"
     ]
    }
   ],
   "source": [
    "diff = np.abs(X_1 - X_2)\n",
    "re = diff / max(X_1.max(), X_2.max())\n",
    "\n",
    "print(f\"Max diff: {re.max()}\\nMin diff: {re.min()}\\nStd: {re.std()}\")"
   ]
  },
  {
   "cell_type": "code",
   "execution_count": 38,
   "metadata": {},
   "outputs": [
    {
     "name": "stdout",
     "output_type": "stream",
     "text": [
      "[[  6.24821450e-305   1.52582712e-004   4.40338250e-007 ...,\n",
      "    2.88341935e-006   8.28401164e-006   8.24248241e-006]\n",
      " [  4.83335112e-004   1.58679926e-308   1.51239456e-005 ...,\n",
      "    9.23376601e-004   3.55764945e-004   2.53750179e-005]\n",
      " [  3.35159517e-006   5.74543722e-007   1.34447823e-305 ...,\n",
      "    6.32595748e-006   2.05830026e-005   6.29258688e-005]\n",
      " ..., \n",
      " [  9.53562172e-005   1.07268418e-003   5.78789803e-005 ...,\n",
      "    2.07203366e-308   2.69978271e-005   8.96465635e-004]\n",
      " [  1.05061161e-004   3.58387415e-004   6.81803365e-005 ...,\n",
      "    1.20725832e-005   1.26829181e-307   1.95058719e-004]\n",
      " [  4.96658568e-005   7.23972132e-006   6.55534042e-005 ...,\n",
      "    3.69299246e-004   8.71188160e-005   2.11351894e-308]]\n"
     ]
    }
   ],
   "source": [
    "print(X_2)"
   ]
  },
  {
   "cell_type": "markdown",
   "metadata": {},
   "source": [
    "## Symmetric affinities $P_{ij}$"
   ]
  },
  {
   "cell_type": "code",
   "execution_count": 39,
   "metadata": {},
   "outputs": [
    {
     "name": "stdout",
     "output_type": "stream",
     "text": [
      "N=1000\tD=1000\n",
      "N=1000\tD=1000\n"
     ]
    }
   ],
   "source": [
    "file_name = \"P_sym\"\n",
    "\n",
    "X_1 = read_results(os.path.join(\"../implementations/original\", \"datum\", file_name))\n",
    "X_2 = read_results(os.path.join(\"../implementations/tsne_exact_optimizations\", \"datum\", file_name))"
   ]
  },
  {
   "cell_type": "code",
   "execution_count": 49,
   "metadata": {},
   "outputs": [
    {
     "name": "stdout",
     "output_type": "stream",
     "text": [
      "Max diff: 0.0\n",
      "Min diff: 0.0\n",
      "Std: 0.0\n"
     ]
    }
   ],
   "source": [
    "diff = np.abs(X_1 - X_2)\n",
    "assert not np.any(np.isnan(X_1))\n",
    "assert not np.any(np.isnan(X_2))\n",
    "\n",
    "print(f\"Max diff: {diff.max()}\\nMin diff: {diff.min()}\\nStd: {diff.std()}\")"
   ]
  },
  {
   "cell_type": "markdown",
   "metadata": {},
   "source": [
    "## Low dimensional affinities $Q_{ij}$"
   ]
  },
  {
   "cell_type": "code",
   "execution_count": 50,
   "metadata": {},
   "outputs": [
    {
     "name": "stdout",
     "output_type": "stream",
     "text": [
      "N=1000\tD=1000\n",
      "N=1000\tD=1000\n",
      "Max diff: 4.2802955591003666e-07\n",
      "Min diff: 0.0\n",
      "Std diff: 3.9507874252386045e-08\n",
      "\n",
      "Max relative error: 4.2802955591003666e-07\n",
      "Min relative error: 0.0\n",
      "Std relative error: 3.9507874252386045e-08\n"
     ]
    }
   ],
   "source": [
    "file_name = \"Q_0\"\n",
    "\n",
    "X_1 = read_results(os.path.join(\"../implementations/original\", \"datum\", file_name))\n",
    "X_2 = read_results(os.path.join(\"../implementations/tsne_exact_optimizations\", \"datum\", file_name))\n",
    "assert not np.any(np.isnan(X_1))\n",
    "assert not np.any(np.isnan(X_2))\n",
    "diff = np.abs(X_1 - X_2)\n",
    "re = diff / max(X_1.max(), X_2.max())\n",
    "\n",
    "print(f\"Max diff: {diff.max()}\\nMin diff: {diff.min()}\\nStd diff: {diff.std()}\\n\")\n",
    "print(f\"Max relative error: {diff.max()}\\nMin relative error: {diff.min()}\\nStd relative error: {diff.std()}\")"
   ]
  },
  {
   "cell_type": "code",
   "execution_count": 51,
   "metadata": {},
   "outputs": [
    {
     "name": "stdout",
     "output_type": "stream",
     "text": [
      "N=1000\tD=1000\n",
      "N=1000\tD=1000\n",
      "Max diff: 3.504529999531769e-12\n",
      "Min diff: 0.0\n",
      "Std diff: 2.994292570633578e-13\n",
      "\n",
      "Max relative error: 3.504529999531769e-12\n",
      "Min relative error: 0.0\n",
      "Std relative error: 2.994292570633578e-13\n"
     ]
    }
   ],
   "source": [
    "file_name = \"Q_300\"\n",
    "\n",
    "X_1 = read_results(os.path.join(\"../implementations/original\", \"datum\", file_name))\n",
    "X_2 = read_results(os.path.join(\"../implementations/tsne_exact_optimizations\", \"datum\", file_name))\n",
    "assert not np.any(np.isnan(X_1))\n",
    "assert not np.any(np.isnan(X_2))\n",
    "diff = np.abs(X_1 - X_2)\n",
    "re = diff / max(X_1.max(), X_2.max())\n",
    "\n",
    "print(f\"Max diff: {diff.max()}\\nMin diff: {diff.min()}\\nStd diff: {diff.std()}\\n\")\n",
    "print(f\"Max relative error: {diff.max()}\\nMin relative error: {diff.min()}\\nStd relative error: {diff.std()}\")"
   ]
  },
  {
   "cell_type": "markdown",
   "metadata": {},
   "source": [
    "## Gradients $\\frac{dC}{d\\mathcal{Y}}$"
   ]
  },
  {
   "cell_type": "code",
   "execution_count": 52,
   "metadata": {},
   "outputs": [
    {
     "ename": "FileNotFoundError",
     "evalue": "[Errno 2] No such file or directory: '../implementations/original/datum/dC_0'",
     "output_type": "error",
     "traceback": [
      "\u001b[0;31m---------------------------------------------------------------------------\u001b[0m",
      "\u001b[0;31mFileNotFoundError\u001b[0m                         Traceback (most recent call last)",
      "\u001b[0;32m<ipython-input-52-ad53d390ff8f>\u001b[0m in \u001b[0;36m<module>\u001b[0;34m()\u001b[0m\n\u001b[1;32m      1\u001b[0m \u001b[0mfile_name\u001b[0m \u001b[0;34m=\u001b[0m \u001b[0;34m\"dC_0\"\u001b[0m\u001b[0;34m\u001b[0m\u001b[0m\n\u001b[1;32m      2\u001b[0m \u001b[0;34m\u001b[0m\u001b[0m\n\u001b[0;32m----> 3\u001b[0;31m \u001b[0mX_1\u001b[0m \u001b[0;34m=\u001b[0m \u001b[0mread_results\u001b[0m\u001b[0;34m(\u001b[0m\u001b[0mos\u001b[0m\u001b[0;34m.\u001b[0m\u001b[0mpath\u001b[0m\u001b[0;34m.\u001b[0m\u001b[0mjoin\u001b[0m\u001b[0;34m(\u001b[0m\u001b[0;34m\"../implementations/original\"\u001b[0m\u001b[0;34m,\u001b[0m \u001b[0;34m\"datum\"\u001b[0m\u001b[0;34m,\u001b[0m \u001b[0mfile_name\u001b[0m\u001b[0;34m)\u001b[0m\u001b[0;34m)\u001b[0m\u001b[0;34m\u001b[0m\u001b[0m\n\u001b[0m\u001b[1;32m      4\u001b[0m \u001b[0mX_2\u001b[0m \u001b[0;34m=\u001b[0m \u001b[0mread_results\u001b[0m\u001b[0;34m(\u001b[0m\u001b[0mos\u001b[0m\u001b[0;34m.\u001b[0m\u001b[0mpath\u001b[0m\u001b[0;34m.\u001b[0m\u001b[0mjoin\u001b[0m\u001b[0;34m(\u001b[0m\u001b[0;34m\"../implementations/tsne_exact_optimizations\"\u001b[0m\u001b[0;34m,\u001b[0m \u001b[0;34m\"datum\"\u001b[0m\u001b[0;34m,\u001b[0m \u001b[0mfile_name\u001b[0m\u001b[0;34m)\u001b[0m\u001b[0;34m)\u001b[0m\u001b[0;34m\u001b[0m\u001b[0m\n\u001b[1;32m      5\u001b[0m \u001b[0;32massert\u001b[0m \u001b[0;32mnot\u001b[0m \u001b[0mnp\u001b[0m\u001b[0;34m.\u001b[0m\u001b[0many\u001b[0m\u001b[0;34m(\u001b[0m\u001b[0mnp\u001b[0m\u001b[0;34m.\u001b[0m\u001b[0misnan\u001b[0m\u001b[0;34m(\u001b[0m\u001b[0mX_1\u001b[0m\u001b[0;34m)\u001b[0m\u001b[0;34m)\u001b[0m\u001b[0;34m\u001b[0m\u001b[0m\n",
      "\u001b[0;32m<ipython-input-30-befa10f1a839>\u001b[0m in \u001b[0;36mread_results\u001b[0;34m(file_name, double)\u001b[0m\n\u001b[1;32m      5\u001b[0m     \u001b[0mstr_type\u001b[0m \u001b[0;34m=\u001b[0m \u001b[0;34m\"{}d\"\u001b[0m \u001b[0;32mif\u001b[0m \u001b[0mdouble\u001b[0m \u001b[0;32melse\u001b[0m \u001b[0;34m\"{}f\"\u001b[0m\u001b[0;34m\u001b[0m\u001b[0m\n\u001b[1;32m      6\u001b[0m \u001b[0;34m\u001b[0m\u001b[0m\n\u001b[0;32m----> 7\u001b[0;31m     \u001b[0;32mwith\u001b[0m \u001b[0mopen\u001b[0m\u001b[0;34m(\u001b[0m\u001b[0mfile_name\u001b[0m\u001b[0;34m,\u001b[0m \u001b[0;34m'rb'\u001b[0m\u001b[0;34m)\u001b[0m \u001b[0;32mas\u001b[0m \u001b[0mfil\u001b[0m\u001b[0;34m:\u001b[0m\u001b[0;34m\u001b[0m\u001b[0m\n\u001b[0m\u001b[1;32m      8\u001b[0m         \u001b[0mN\u001b[0m\u001b[0;34m,\u001b[0m \u001b[0mD\u001b[0m \u001b[0;34m=\u001b[0m \u001b[0mstruct\u001b[0m\u001b[0;34m.\u001b[0m\u001b[0munpack\u001b[0m\u001b[0;34m(\u001b[0m\u001b[0;34m'II'\u001b[0m\u001b[0;34m,\u001b[0m \u001b[0mfil\u001b[0m\u001b[0;34m.\u001b[0m\u001b[0mread\u001b[0m\u001b[0;34m(\u001b[0m\u001b[0;36m8\u001b[0m\u001b[0;34m)\u001b[0m\u001b[0;34m)\u001b[0m\u001b[0;34m\u001b[0m\u001b[0m\n\u001b[1;32m      9\u001b[0m         \u001b[0mprint\u001b[0m\u001b[0;34m(\u001b[0m\u001b[0;34m\"N={}\\tD={}\"\u001b[0m\u001b[0;34m.\u001b[0m\u001b[0mformat\u001b[0m\u001b[0;34m(\u001b[0m\u001b[0mN\u001b[0m\u001b[0;34m,\u001b[0m \u001b[0mD\u001b[0m\u001b[0;34m)\u001b[0m\u001b[0;34m)\u001b[0m\u001b[0;34m\u001b[0m\u001b[0m\n",
      "\u001b[0;31mFileNotFoundError\u001b[0m: [Errno 2] No such file or directory: '../implementations/original/datum/dC_0'"
     ]
    }
   ],
   "source": [
    "file_name = \"dC_0\"\n",
    "\n",
    "X_1 = read_results(os.path.join(\"../implementations/original\", \"datum\", file_name))\n",
    "X_2 = read_results(os.path.join(\"../implementations/tsne_exact_optimizations\", \"datum\", file_name))\n",
    "assert not np.any(np.isnan(X_1))\n",
    "assert not np.any(np.isnan(X_2))\n",
    "diff = np.abs(X_1 - X_2)\n",
    "re = diff / max(X_1.max(), X_2.max())\n",
    "\n",
    "print(f\"Max diff: {diff.max()}\\nMin diff: {diff.min()}\\nStd diff: {diff.std()}\\n\")\n",
    "print(f\"Max relative error: {diff.max()}\\nMin relative error: {diff.min()}\\nStd relative error: {diff.std()}\")"
   ]
  },
  {
   "cell_type": "code",
   "execution_count": 54,
   "metadata": {},
   "outputs": [
    {
     "name": "stdout",
     "output_type": "stream",
     "text": [
      "N=1000\tD=2\n",
      "N=1000\tD=2\n",
      "Max diff: 9.497611688383577e-10\n",
      "Min diff: 3.128957258703107e-14\n",
      "Std diff: 1.3294869535028852e-10\n",
      "\n",
      "Max relative error: 9.497611688383577e-10\n",
      "Min relative error: 3.128957258703107e-14\n",
      "Std relative error: 1.3294869535028852e-10\n"
     ]
    }
   ],
   "source": [
    "file_name = \"dC_300\"\n",
    "\n",
    "X_1 = read_results(os.path.join(\"../implementations/original\", \"datum\", file_name))\n",
    "X_2 = read_results(os.path.join(\"../implementations/tsne_exact_optimizations\", \"datum\", file_name))\n",
    "assert not np.any(np.isnan(X_1))\n",
    "assert not np.any(np.isnan(X_2))\n",
    "diff = np.abs(X_1 - X_2)\n",
    "re = diff / max(X_1.max(), X_2.max())\n",
    "\n",
    "print(f\"Max diff: {diff.max()}\\nMin diff: {diff.min()}\\nStd diff: {diff.std()}\\n\")\n",
    "print(f\"Max relative error: {diff.max()}\\nMin relative error: {diff.min()}\\nStd relative error: {diff.std()}\")"
   ]
  },
  {
   "cell_type": "markdown",
   "metadata": {},
   "source": [
    "## Output Embedding $\\mathcal{Y}$"
   ]
  },
  {
   "cell_type": "code",
   "execution_count": 55,
   "metadata": {},
   "outputs": [
    {
     "name": "stdout",
     "output_type": "stream",
     "text": [
      "N=1000\tD=2\n",
      "N=1000\tD=2\n",
      "Max diff: 0.0012382185750860783\n",
      "Min diff: 1.430077980801224e-08\n",
      "Std diff: 0.00018109633930966237\n",
      "\n",
      "Max relative error: 0.0012382185750860783\n",
      "Min relative error: 1.430077980801224e-08\n",
      "Std relative error: 0.00018109633930966237\n"
     ]
    }
   ],
   "source": [
    "file_name = \"Y_0\"\n",
    "\n",
    "X_1 = read_results(os.path.join(\"../implementations/original\", \"datum\", file_name))\n",
    "X_2 = read_results(os.path.join(\"../implementations/tsne_exact_optimizations\", \"datum\", file_name))\n",
    "diff = np.abs(X_1 - X_2)\n",
    "re = diff / max(X_1.max(), X_2.max())\n",
    "\n",
    "print(f\"Max diff: {diff.max()}\\nMin diff: {diff.min()}\\nStd diff: {diff.std()}\\n\")\n",
    "print(f\"Max relative error: {diff.max()}\\nMin relative error: {diff.min()}\\nStd relative error: {diff.std()}\")"
   ]
  },
  {
   "cell_type": "code",
   "execution_count": 56,
   "metadata": {},
   "outputs": [
    {
     "name": "stdout",
     "output_type": "stream",
     "text": [
      "N=1000\tD=2\n",
      "N=1000\tD=2\n",
      "Max diff: 0.001245202005563082\n",
      "Min diff: 1.3511796938847393e-07\n",
      "Std diff: 0.00018104555033411285\n",
      "\n",
      "Max relative error: 0.001245202005563082\n",
      "Min relative error: 1.3511796938847393e-07\n",
      "Std relative error: 0.00018104555033411285\n"
     ]
    }
   ],
   "source": [
    "file_name = \"Y_0_normalized\"\n",
    "\n",
    "X_1 = read_results(os.path.join(\"../implementations/original\", \"datum\", file_name))\n",
    "X_2 = read_results(os.path.join(\"../implementations/tsne_exact_optimizations\", \"datum\", file_name))\n",
    "diff = np.abs(X_1 - X_2)\n",
    "re = diff / max(X_1.max(), X_2.max())\n",
    "\n",
    "print(f\"Max diff: {diff.max()}\\nMin diff: {diff.min()}\\nStd diff: {diff.std()}\\n\")\n",
    "print(f\"Max relative error: {diff.max()}\\nMin relative error: {diff.min()}\\nStd relative error: {diff.std()}\")"
   ]
  },
  {
   "cell_type": "code",
   "execution_count": 58,
   "metadata": {},
   "outputs": [
    {
     "name": "stdout",
     "output_type": "stream",
     "text": [
      "N=1000\tD=2\n",
      "N=1000\tD=2\n",
      "Max diff: 4.0533617243148986e-06\n",
      "Min diff: 1.5242734763666893e-10\n",
      "Std diff: 5.143516072383088e-07\n",
      "\n",
      "Max relative error: 4.0533617243148986e-06\n",
      "Min relative error: 1.5242734763666893e-10\n",
      "Std relative error: 5.143516072383088e-07\n"
     ]
    }
   ],
   "source": [
    "file_name = \"Y_300\"\n",
    "\n",
    "X_1 = read_results(os.path.join(\"../implementations/original\", \"datum\", file_name))\n",
    "X_2 = read_results(os.path.join(\"../implementations/tsne_exact_optimizations\", \"datum\", file_name))\n",
    "diff = np.abs(X_1 - X_2)\n",
    "re = diff / max(X_1.max(), X_2.max())\n",
    "\n",
    "print(f\"Max diff: {diff.max()}\\nMin diff: {diff.min()}\\nStd diff: {diff.std()}\\n\")\n",
    "print(f\"Max relative error: {diff.max()}\\nMin relative error: {diff.min()}\\nStd relative error: {diff.std()}\")"
   ]
  },
  {
   "cell_type": "code",
   "execution_count": 57,
   "metadata": {},
   "outputs": [
    {
     "name": "stdout",
     "output_type": "stream",
     "text": [
      "N=1000\tD=2\n",
      "N=1000\tD=2\n",
      "Max diff: 4.052686322730439e-06\n",
      "Min diff: 6.618787393569977e-10\n",
      "Std diff: 5.140223577919975e-07\n",
      "\n",
      "Max relative error: 4.052686322730439e-06\n",
      "Min relative error: 6.618787393569977e-10\n",
      "Std relative error: 5.140223577919975e-07\n"
     ]
    }
   ],
   "source": [
    "file_name = \"Y_300_normalized\"\n",
    "\n",
    "X_1 = read_results(os.path.join(\"../implementations/original\", \"datum\", file_name))\n",
    "X_2 = read_results(os.path.join(\"../implementations/tsne_exact_optimizations\", \"datum\", file_name))\n",
    "diff = np.abs(X_1 - X_2)\n",
    "re = diff / max(X_1.max(), X_2.max())\n",
    "\n",
    "print(f\"Max diff: {diff.max()}\\nMin diff: {diff.min()}\\nStd diff: {diff.std()}\\n\")\n",
    "print(f\"Max relative error: {diff.max()}\\nMin relative error: {diff.min()}\\nStd relative error: {diff.std()}\")"
   ]
  }
 ],
 "metadata": {
  "kernelspec": {
   "display_name": "Python 3",
   "language": "python",
   "name": "python3"
  },
  "language_info": {
   "codemirror_mode": {
    "name": "ipython",
    "version": 3
   },
   "file_extension": ".py",
   "mimetype": "text/x-python",
   "name": "python",
   "nbconvert_exporter": "python",
   "pygments_lexer": "ipython3",
   "version": "3.6.1"
  }
 },
 "nbformat": 4,
 "nbformat_minor": 2
}
